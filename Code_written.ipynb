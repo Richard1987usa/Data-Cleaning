{
 "cells": [
  {
   "cell_type": "markdown",
   "id": "916213d5",
   "metadata": {},
   "source": [
    "###### Import certain python libraries"
   ]
  },
  {
   "cell_type": "code",
   "execution_count": null,
   "id": "c6e5c403",
   "metadata": {},
   "outputs": [],
   "source": [
    "import numpy as np\n",
    "import pandas as pd\n",
    "from scipy import stats\n",
    "from sklearn.preprocessing import StandardScaler\n",
    "from sklearn.decomposition import PCA\n",
    "import seaborn as sns\n",
    "import matplotlib.pyplot as plt"
   ]
  },
  {
   "cell_type": "markdown",
   "id": "59759659",
   "metadata": {},
   "source": [
    "##### Code to import the csv"
   ]
  },
  {
   "cell_type": "code",
   "execution_count": null,
   "id": "6fa26520",
   "metadata": {},
   "outputs": [],
   "source": [
    "df = pd.read_csv(r'C:\\Users\\richa\\OneDrive\\Desktop\\d206\\churn_raw_data.csv')\n",
    "print(df)"
   ]
  },
  {
   "cell_type": "markdown",
   "id": "e8a2a38d",
   "metadata": {},
   "source": [
    "##### indexing CaseOrder column\n"
   ]
  },
  {
   "cell_type": "code",
   "execution_count": null,
   "id": "a3049323",
   "metadata": {},
   "outputs": [],
   "source": [
    "df_index = pd.read_csv(r'C:\\Users\\richa\\OneDrive\\Desktop\\d206\\churn_raw_data.csv', usecols = ['CaseOrder',\n",
    "'Customer_id'])\n",
    "print(df_index)\n",
    "print(df_index[\"CaseOrder\"])\n",
    "type(df[\"CaseOrder\"])"
   ]
  },
  {
   "cell_type": "markdown",
   "id": "e6f6ecec",
   "metadata": {},
   "source": [
    "########### Step 2: Rename columns for better description of the variables"
   ]
  },
  {
   "cell_type": "code",
   "execution_count": null,
   "id": "eaf2792b",
   "metadata": {},
   "outputs": [],
   "source": [
    "df.rename(columns = {'item1':'Timely_response', 'item2':'Timely_fixes', \n",
    "                     'item3':'Timely_replacements', 'item4':'Reliability', \n",
    "                      'item5':'options', 'item6':'Respectful_response',\n",
    "                     'item7':'Courteous_exchange', 'item8':'Active_listening'}, inplace=True)\n",
    "print(df)"
   ]
  },
  {
   "cell_type": "markdown",
   "id": "73009786",
   "metadata": {},
   "source": [
    "####### Display the list of Dataframe Columns"
   ]
  },
  {
   "cell_type": "code",
   "execution_count": null,
   "id": "dd468cf5",
   "metadata": {},
   "outputs": [],
   "source": [
    "df.columns"
   ]
  },
  {
   "cell_type": "markdown",
   "id": "9c08fe27",
   "metadata": {},
   "source": [
    "########## Describe Churn dataset statistics"
   ]
  },
  {
   "cell_type": "code",
   "execution_count": null,
   "id": "f49d40d4",
   "metadata": {},
   "outputs": [],
   "source": [
    "df.describe()"
   ]
  },
  {
   "cell_type": "markdown",
   "id": "369855f3",
   "metadata": {},
   "source": [
    "########## Calculate Churn Rate"
   ]
  },
  {
   "cell_type": "code",
   "execution_count": null,
   "id": "90cb0009",
   "metadata": {},
   "outputs": [],
   "source": [
    "df.Churn.value_counts() / len(df)"
   ]
  },
  {
   "cell_type": "markdown",
   "id": "a7d5fd40",
   "metadata": {},
   "source": [
    "####### Identify the standard deviation of every numeric column in the data set"
   ]
  },
  {
   "cell_type": "code",
   "execution_count": null,
   "id": "496909c0",
   "metadata": {},
   "outputs": [],
   "source": [
    "df.std()"
   ]
  },
  {
   "cell_type": "markdown",
   "id": "569eaabe",
   "metadata": {},
   "source": [
    "########## Review data type"
   ]
  },
  {
   "cell_type": "code",
   "execution_count": null,
   "id": "621965f9",
   "metadata": {},
   "outputs": [],
   "source": [
    "df.dtypes"
   ]
  },
  {
   "cell_type": "markdown",
   "id": "20aaa1b9",
   "metadata": {},
   "source": [
    "######### Step 4: Identify outliers in certain columns"
   ]
  },
  {
   "cell_type": "markdown",
   "id": "c4e2136a",
   "metadata": {},
   "source": [
    "######### Detecting outliers in Email column code"
   ]
  },
  {
   "cell_type": "code",
   "execution_count": null,
   "id": "f9bdfebb",
   "metadata": {},
   "outputs": [],
   "source": [
    "data_frame = pd.read_csv(r'C:\\Users\\richa\\OneDrive\\Desktop\\d206\\churn_raw_data.csv')\n",
    "\n",
    "data_frame['Email_z'] = stats.zscore(data_frame['Email'])\n",
    "graph = pd.DataFrame({\"Email_z\":data_frame.loc[:,\"Email_z\"]})\n",
    "\n",
    "graph.hist()"
   ]
  },
  {
   "cell_type": "code",
   "execution_count": null,
   "id": "d03b58bd",
   "metadata": {},
   "outputs": [],
   "source": [
    "Email_z = (df['Email'] - df['Email'].mean()) /df['Email'].std() \n",
    "data = df.loc[(Email_z > 3) | (Email_z < -3)] \n",
    "print(data)"
   ]
  },
  {
   "cell_type": "markdown",
   "id": "889b3382",
   "metadata": {},
   "source": [
    "########### Detecting outliers in Population column code"
   ]
  },
  {
   "cell_type": "code",
   "execution_count": null,
   "id": "6852fa3b",
   "metadata": {},
   "outputs": [],
   "source": [
    "data_frame['Population_z'] = stats.zscore(data_frame['Population'])\n",
    "graph = pd.DataFrame({\"Population_z\":data_frame.loc[:,\"Population_z\"]})\n",
    "graph.hist()"
   ]
  },
  {
   "cell_type": "code",
   "execution_count": null,
   "id": "b5c134e1",
   "metadata": {
    "scrolled": true
   },
   "outputs": [],
   "source": [
    "Population_z = (df['Population'] - df['Population'].mean()) /df['Population'].std() \n",
    "data = df.loc[(Population_z > 3) | (Population_z < -3)] \n",
    "print(data)"
   ]
  },
  {
   "cell_type": "markdown",
   "id": "e011624e",
   "metadata": {},
   "source": [
    "########### Detecting outliers in Children column code"
   ]
  },
  {
   "cell_type": "code",
   "execution_count": null,
   "id": "8f2c8a2c",
   "metadata": {},
   "outputs": [],
   "source": [
    "data_frame['Children_z'] = stats.zscore(data_frame['Children'])\n",
    "graph = pd.DataFrame({\"Children_z\":data_frame.loc[:,\"Children_z\"]})\n",
    "graph.hist()"
   ]
  },
  {
   "cell_type": "code",
   "execution_count": null,
   "id": "99dabe19",
   "metadata": {},
   "outputs": [],
   "source": [
    "Children_z = (df['Children'] - df['Children'].mean()) /df['Children'].std() \n",
    "data = df.loc[(Children_z > 3) | (Children_z < -3)] \n",
    "print(data)\n"
   ]
  },
  {
   "cell_type": "markdown",
   "id": "8ab2f388",
   "metadata": {},
   "source": [
    "############Detecting outliers in Age column code"
   ]
  },
  {
   "cell_type": "code",
   "execution_count": null,
   "id": "6e9b1b98",
   "metadata": {},
   "outputs": [],
   "source": [
    "data_frame['Age_z'] = stats.zscore(data_frame['Age'])\n",
    "graph = pd.DataFrame({\"Age_z\":data_frame.loc[:,\"Age_z\"]})\n",
    "graph.hist()"
   ]
  },
  {
   "cell_type": "code",
   "execution_count": null,
   "id": "7248cc9a",
   "metadata": {},
   "outputs": [],
   "source": [
    "Age_z = (df['Age'] - df['Age'].mean()) /df['Age'].std() \n",
    "data = df.loc[(Age_z > 3) | (Age_z < -3)] \n",
    "print(data)"
   ]
  },
  {
   "cell_type": "markdown",
   "id": "d1d5940d",
   "metadata": {},
   "source": [
    "######### Detecting outliers in Income column code"
   ]
  },
  {
   "cell_type": "code",
   "execution_count": null,
   "id": "bd775968",
   "metadata": {},
   "outputs": [],
   "source": [
    "data_frame['Income_z'] = stats.zscore(data_frame['Income'])\n",
    "graph = pd.DataFrame({\"Income_z\":data_frame.loc[:,\"Income_z\"]})\n",
    "graph.hist()"
   ]
  },
  {
   "cell_type": "code",
   "execution_count": null,
   "id": "8c4a26e4",
   "metadata": {},
   "outputs": [],
   "source": [
    "Income_z = (df['Income'] - df['Income'].mean()) /df['Income'].std() \n",
    "data = df.loc[(Income_z > 3) | (Income_z < -3)] \n",
    "print(data)\n"
   ]
  },
  {
   "cell_type": "markdown",
   "id": "f5cc7261",
   "metadata": {},
   "source": [
    "############# Detecting outliers in Contacts column code"
   ]
  },
  {
   "cell_type": "code",
   "execution_count": null,
   "id": "a004c6ad",
   "metadata": {},
   "outputs": [],
   "source": [
    "data_frame['Contacts_z'] = stats.zscore(data_frame['Contacts'])\n",
    "graph = pd.DataFrame({\"Contacts_z\":data_frame.loc[:,\"Contacts_z\"]})\n",
    "graph.hist()"
   ]
  },
  {
   "cell_type": "code",
   "execution_count": null,
   "id": "5be115b3",
   "metadata": {},
   "outputs": [],
   "source": [
    "Contacts_z = (df['Contacts'] - df['Contacts'].mean()) /df['Contacts'].std() \n",
    "data = df.loc[(Contacts_z > 3) | (Contacts_z < -3)] \n",
    "print(data)"
   ]
  },
  {
   "cell_type": "markdown",
   "id": "4c2900f4",
   "metadata": {},
   "source": [
    "################# Detecting outliers in Yearly_equip_failure column code"
   ]
  },
  {
   "cell_type": "code",
   "execution_count": null,
   "id": "396da2a0",
   "metadata": {},
   "outputs": [],
   "source": [
    "data_frame['Yearly_equip_failure _z'] = stats.zscore(data_frame['Yearly_equip_failure'])\n",
    "graph = pd.DataFrame({\"Yearly_equip_failure _z\":data_frame.loc[:,\"Yearly_equip_failure _z\"]})\n",
    "graph.hist()"
   ]
  },
  {
   "cell_type": "code",
   "execution_count": null,
   "id": "77887ea3",
   "metadata": {},
   "outputs": [],
   "source": [
    "Yearly_equip_failure_z = (df['Yearly_equip_failure'] - df['Yearly_equip_failure'].mean()) /df['Yearly_equip_failure'].std() \n",
    "data = df.loc[(Yearly_equip_failure_z > 3) | (Yearly_equip_failure_z < -3)] \n",
    "print(data)"
   ]
  },
  {
   "cell_type": "markdown",
   "id": "2bb08fd6",
   "metadata": {},
   "source": [
    "################## Detecting outliers in Tenure column code"
   ]
  },
  {
   "cell_type": "code",
   "execution_count": null,
   "id": "c9768d83",
   "metadata": {},
   "outputs": [],
   "source": [
    "data_frame['Tenure_z'] = stats.zscore(data_frame['Tenure'])\n",
    "graph = pd.DataFrame({\"Tenure_z\":data_frame.loc[:,\"Tenure_z\"]})\n",
    "graph.hist()"
   ]
  },
  {
   "cell_type": "code",
   "execution_count": null,
   "id": "5faa1563",
   "metadata": {},
   "outputs": [],
   "source": [
    "Tenure_z = (df['Tenure'] - df['Tenure'].mean()) /df['Tenure'].std() \n",
    "data = df.loc[(Tenure_z > 3) | (Tenure_z < -3)] \n",
    "print(data)"
   ]
  },
  {
   "cell_type": "markdown",
   "id": "9d6b1083",
   "metadata": {},
   "source": [
    "##################### Detecting outliers in MonthlyCharge column code"
   ]
  },
  {
   "cell_type": "code",
   "execution_count": null,
   "id": "36e2080c",
   "metadata": {},
   "outputs": [],
   "source": [
    "data_frame['MonthlyCharge_z'] = stats.zscore(data_frame['MonthlyCharge'])\n",
    "graph = pd.DataFrame({\"MonthlyCharge_z\":data_frame.loc[:,\"MonthlyCharge_z\"]})\n",
    "graph.hist()"
   ]
  },
  {
   "cell_type": "code",
   "execution_count": null,
   "id": "8f26d604",
   "metadata": {},
   "outputs": [],
   "source": [
    "MonthlyCharge_z = (df['MonthlyCharge'] - df['MonthlyCharge'].mean()) /df['MonthlyCharge'].std() \n",
    "data = df.loc[(MonthlyCharge_z > 3) | (MonthlyCharge_z < -3)] \n",
    "print(data)"
   ]
  },
  {
   "cell_type": "markdown",
   "id": "6a9e6e15",
   "metadata": {},
   "source": [
    "############ Detecting outliers in Bandwidth_GB_Year outlier column code"
   ]
  },
  {
   "cell_type": "code",
   "execution_count": null,
   "id": "1590d21b",
   "metadata": {},
   "outputs": [],
   "source": [
    "data_frame['Bandwidth_GB_Year_z'] = stats.zscore(data_frame['Bandwidth_GB_Year'])\n",
    "graph = pd.DataFrame({\"Bandwidth_GB_Year_z\":data_frame.loc[:,\"Bandwidth_GB_Year_z\"]})\n",
    "graph.hist()"
   ]
  },
  {
   "cell_type": "code",
   "execution_count": null,
   "id": "c068b5cd",
   "metadata": {},
   "outputs": [],
   "source": [
    "Bandwidth_GB_Year_z = (df['Bandwidth_GB_Year'] - df['Bandwidth_GB_Year'].mean()) /df['Bandwidth_GB_Year'].std() \n",
    "data = df.loc[(Bandwidth_GB_Year_z > 3) | (Bandwidth_GB_Year_z < -3)] \n",
    "print(data)"
   ]
  },
  {
   "cell_type": "markdown",
   "id": "3f966edf",
   "metadata": {},
   "source": [
    "###############let us generate box plots for outliers analysis for Tenure, MonthlyCharge, Bandwidth_GB_Year columns"
   ]
  },
  {
   "cell_type": "code",
   "execution_count": null,
   "id": "756479f2",
   "metadata": {},
   "outputs": [],
   "source": [
    "df.boxplot(['Tenure', 'MonthlyCharge', 'Bandwidth_GB_Year'])\n",
    "plt.savefig('df_boxplots.jpg')"
   ]
  },
  {
   "cell_type": "markdown",
   "id": "70ecd496",
   "metadata": {},
   "source": [
    "################ Let us box plot the MonthlyCharge seperately"
   ]
  },
  {
   "cell_type": "code",
   "execution_count": null,
   "id": "f2f78f16",
   "metadata": {},
   "outputs": [],
   "source": [
    "df.boxplot(['MonthlyCharge'])\n",
    "plt.savefig('df_boxplots.jpg')"
   ]
  },
  {
   "cell_type": "markdown",
   "id": "c59a2630",
   "metadata": {},
   "source": [
    "Step 5: ############# Locate missing values in the data set and impute these missing values"
   ]
  },
  {
   "cell_type": "markdown",
   "id": "283fc949",
   "metadata": {},
   "source": [
    "Find missing values "
   ]
  },
  {
   "cell_type": "code",
   "execution_count": null,
   "id": "8c9dec0a",
   "metadata": {},
   "outputs": [],
   "source": [
    "df.isnull()"
   ]
  },
  {
   "cell_type": "markdown",
   "id": "dbe89a30",
   "metadata": {},
   "source": [
    "Locate rows that contain missing values"
   ]
  },
  {
   "cell_type": "code",
   "execution_count": null,
   "id": "36f4aa07",
   "metadata": {},
   "outputs": [],
   "source": [
    "df.isnull().any(axis=1)"
   ]
  },
  {
   "cell_type": "markdown",
   "id": "05a95e90",
   "metadata": {},
   "source": [
    "Display the columns with missing values"
   ]
  },
  {
   "cell_type": "code",
   "execution_count": null,
   "id": "ea42e602",
   "metadata": {},
   "outputs": [],
   "source": [
    "df.isna().any()"
   ]
  },
  {
   "cell_type": "markdown",
   "id": "d011bd99",
   "metadata": {},
   "source": [
    "################ Count the number of missing values in columns"
   ]
  },
  {
   "cell_type": "code",
   "execution_count": null,
   "id": "f2ca9890",
   "metadata": {},
   "outputs": [],
   "source": [
    "data_nulls = df.isnull().sum()\n",
    "print(data_nulls)"
   ]
  },
  {
   "cell_type": "markdown",
   "id": "04e52825",
   "metadata": {},
   "source": [
    "################ Impute the missing values for the variables Children, Age, Income, Tenure and Bandwidth_GB_Year with the median and the variables Techie, Phone, TechSupport with \"No\""
   ]
  },
  {
   "cell_type": "code",
   "execution_count": null,
   "id": "b415f9af",
   "metadata": {},
   "outputs": [],
   "source": [
    "df['Children'].fillna(0, inplace=True)\n",
    "df['Age'].fillna(df['Age'].median(), inplace=True)\n",
    "df['Income'].fillna(df['Income'].median(), inplace=True)\n",
    "df['Bandwidth_GB_Year'].fillna(df['Bandwidth_GB_Year'].median(), inplace=True)\n",
    "df['Tenure'].fillna(df['Tenure'].median(), inplace=True)\n",
    "df['Techie'].fillna('No', inplace=True)\n",
    "df['Phone'].fillna('No', inplace=True)\n",
    "df['TechSupport'].fillna('No', inplace=True)\n",
    "print(df)"
   ]
  },
  {
   "cell_type": "code",
   "execution_count": null,
   "id": "cc63e77c",
   "metadata": {},
   "outputs": [],
   "source": [
    "data_nulls = df.isnull().sum()\n",
    "print(data_nulls)"
   ]
  },
  {
   "cell_type": "markdown",
   "id": "78778890",
   "metadata": {},
   "source": [
    "Step 6:  Detecting and removing duplicate values in rows"
   ]
  },
  {
   "cell_type": "code",
   "execution_count": null,
   "id": "84a38482",
   "metadata": {},
   "outputs": [],
   "source": [
    "data_duplicates = df.loc[df.duplicated()]\n",
    "print(data_duplicates)\n"
   ]
  },
  {
   "cell_type": "markdown",
   "id": "def86b2f",
   "metadata": {},
   "source": [
    "############## Step 7: Export the cleaned data"
   ]
  },
  {
   "cell_type": "code",
   "execution_count": null,
   "id": "99315943",
   "metadata": {},
   "outputs": [],
   "source": [
    "df.to_csv(r'C:\\Users\\richa\\OneDrive\\Desktop\\d206\\cleaned_churn_data.csv', index=False, header=True)\n",
    "print(df)\n"
   ]
  },
  {
   "cell_type": "markdown",
   "id": "0f3a456c",
   "metadata": {},
   "source": [
    "############E- Principal Component Analysis"
   ]
  },
  {
   "cell_type": "markdown",
   "id": "123d69aa",
   "metadata": {},
   "source": [
    "############## We reload the clean data set"
   ]
  },
  {
   "cell_type": "code",
   "execution_count": null,
   "id": "04f4b3fd",
   "metadata": {},
   "outputs": [],
   "source": [
    "df = pd.read_csv(r'C:\\Users\\richa\\OneDrive\\Desktop\\d206\\cleaned_churn_data.csv')\n",
    "print(df)"
   ]
  },
  {
   "cell_type": "markdown",
   "id": "2f85a4b0",
   "metadata": {},
   "source": [
    "# We selected the last eleven service related columns\n"
   ]
  },
  {
   "cell_type": "code",
   "execution_count": null,
   "id": "f8a2c1b9",
   "metadata": {},
   "outputs": [],
   "source": [
    "data = df.loc[:, 'Tenure':'Active_listening']\n",
    "\n",
    "print(data)"
   ]
  },
  {
   "cell_type": "markdown",
   "id": "b04767c3",
   "metadata": {},
   "source": [
    "############ We Normalize the data"
   ]
  },
  {
   "cell_type": "code",
   "execution_count": null,
   "id": "e93adee1",
   "metadata": {},
   "outputs": [],
   "source": [
    "churn_normalized = (data - data.mean()) / data.std()"
   ]
  },
  {
   "cell_type": "markdown",
   "id": "23a94274",
   "metadata": {},
   "source": [
    "########### We select number of components to extract"
   ]
  },
  {
   "cell_type": "code",
   "execution_count": null,
   "id": "ef2c9770",
   "metadata": {},
   "outputs": [],
   "source": [
    "pca = PCA(n_components = data.shape[1])"
   ]
  },
  {
   "cell_type": "markdown",
   "id": "b0bf8ac7",
   "metadata": {},
   "source": [
    "####### We create a list of PCA names"
   ]
  },
  {
   "cell_type": "code",
   "execution_count": null,
   "id": "8fcb423b",
   "metadata": {},
   "outputs": [],
   "source": [
    "churn_numeric = data[['Tenure', 'MonthlyCharge', 'Bandwidth_GB_Year', 'Timely_response', \n",
    "                       'Timely_fixes', 'Timely_replacements', 'Reliability', 'options', \n",
    "                       'Respectful_response', 'Courteous_exchange', 'Active_listening']]\n",
    "pcs_names = []\n",
    "for i, col in enumerate(churn_numeric.columns):\n",
    "    pcs_names.append('PC' + str(i + 1))\n",
    "print(pcs_names)"
   ]
  },
  {
   "cell_type": "markdown",
   "id": "c420aca8",
   "metadata": {},
   "source": [
    "###### We Call PCA application and convert the dataset of 11 variables into a dataset of  11 components"
   ]
  },
  {
   "cell_type": "code",
   "execution_count": null,
   "id": "716f1e99",
   "metadata": {},
   "outputs": [],
   "source": [
    "pca.fit(churn_normalized)\n",
    "churn_pca = pd.DataFrame(pca.transform(churn_normalized),\n",
    "columns = pcs_names)"
   ]
  },
  {
   "cell_type": "markdown",
   "id": "40387716",
   "metadata": {},
   "source": [
    "######### We run the scree plot"
   ]
  },
  {
   "cell_type": "code",
   "execution_count": null,
   "id": "7a01f961",
   "metadata": {},
   "outputs": [],
   "source": [
    "plt.plot(pca.explained_variance_ratio_)\n",
    "plt.xlabel('Number of Components')\n",
    "plt.ylabel('Explained Variance')\n",
    "plt.show();"
   ]
  },
  {
   "cell_type": "markdown",
   "id": "1a9b8509",
   "metadata": {},
   "source": [
    "# Extract the eigenvalues"
   ]
  },
  {
   "cell_type": "code",
   "execution_count": null,
   "id": "91627f3d",
   "metadata": {},
   "outputs": [],
   "source": [
    "cov_matrix = np.dot(churn_normalized.T, churn_normalized) / data.shape[0]\n",
    "eigenvalues = [np.dot(eigenvector.T, np.dot(cov_matrix, eigenvector)) for eigenvector in pca.components_]"
   ]
  },
  {
   "cell_type": "markdown",
   "id": "108a1694",
   "metadata": {},
   "source": [
    "# Plot the eigenvalues"
   ]
  },
  {
   "cell_type": "code",
   "execution_count": null,
   "id": "e5228816",
   "metadata": {},
   "outputs": [],
   "source": [
    "plt.plot(eigenvalues)\n",
    "plt.xlabel('Number of Components')\n",
    "plt.ylabel('Eigenvalue')\n",
    "plt.show();"
   ]
  },
  {
   "cell_type": "markdown",
   "id": "0d313c2f",
   "metadata": {},
   "source": [
    "# Select the fewest components"
   ]
  },
  {
   "cell_type": "code",
   "execution_count": null,
   "id": "bd54a0f4",
   "metadata": {},
   "outputs": [],
   "source": [
    "for pc, var in zip(pcs_names, np.cumsum(pca.explained_variance_ratio_)):\n",
    "    print(pc, var)"
   ]
  },
  {
   "cell_type": "markdown",
   "id": "1a53d5d8",
   "metadata": {},
   "source": [
    "# Create a rotation"
   ]
  },
  {
   "cell_type": "code",
   "execution_count": null,
   "id": "565a3dd0",
   "metadata": {},
   "outputs": [],
   "source": [
    "rotation = pd.DataFrame(pca.components_.T, columns = pcs_names, index = churn_numeric.columns)\n",
    "print(rotation)"
   ]
  },
  {
   "cell_type": "markdown",
   "id": "fb939b33",
   "metadata": {},
   "source": [
    "######### We generated output loadings for components"
   ]
  },
  {
   "cell_type": "code",
   "execution_count": null,
   "id": "fb416ff7",
   "metadata": {},
   "outputs": [],
   "source": [
    "loadings = pd.DataFrame(pca.components_.T,\n",
    "                       columns = pcs_names,\n",
    "                       index = data.columns)\n",
    "loadings\n"
   ]
  },
  {
   "cell_type": "markdown",
   "id": "8c2c489c",
   "metadata": {},
   "source": [
    "# Extract reduced dataset & print 3 components"
   ]
  },
  {
   "cell_type": "code",
   "execution_count": null,
   "id": "38b3062e",
   "metadata": {},
   "outputs": [],
   "source": [
    "churn_reduced = churn_pca.iloc[ : , 0:3]\n",
    "print(churn_reduced)"
   ]
  },
  {
   "cell_type": "code",
   "execution_count": null,
   "id": "1312b544",
   "metadata": {},
   "outputs": [],
   "source": []
  }
 ],
 "metadata": {
  "kernelspec": {
   "display_name": "Python 3 (ipykernel)",
   "language": "python",
   "name": "python3"
  },
  "language_info": {
   "codemirror_mode": {
    "name": "ipython",
    "version": 3
   },
   "file_extension": ".py",
   "mimetype": "text/x-python",
   "name": "python",
   "nbconvert_exporter": "python",
   "pygments_lexer": "ipython3",
   "version": "3.10.9"
  }
 },
 "nbformat": 4,
 "nbformat_minor": 5
}
